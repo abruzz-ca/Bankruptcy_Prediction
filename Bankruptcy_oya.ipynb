{
 "cells": [
  {
   "cell_type": "markdown",
   "metadata": {},
   "source": [
    "# Problem description\n",
    "\n",
    "You are to predict whether a company will go bankrupt in the following year, based on financial attributes of the company.\n",
    "\n",
    "Perhaps you are contemplating lending money to a company, and need to know whether the company\n",
    "is in near-term danger of not being able to repay.\n"
   ]
  },
  {
   "cell_type": "markdown",
   "metadata": {},
   "source": [
    "## Goal"
   ]
  },
  {
   "cell_type": "markdown",
   "metadata": {
    "slideshow": {
     "slide_type": "fragment"
    }
   },
   "source": [
    "## Learning objectives\n",
    "\n",
    "- Demonstrate mastery on solving a classification problem and presenting\n",
    "the entire Recipe for Machine Learning process in a notebook.\n",
    "- We will make suggestions for ways to approach the problem\n",
    "    - But there will be little explicit direction for this task.\n",
    "- It is meant to be analogous to a pre-interview task that a potential employer might assign\n",
    "to verify your skill"
   ]
  },
  {
   "cell_type": "markdown",
   "metadata": {},
   "source": [
    "# Import modules"
   ]
  },
  {
   "cell_type": "code",
   "execution_count": 1,
   "metadata": {},
   "outputs": [],
   "source": [
    "## Standard imports\n",
    "import numpy as np\n",
    "import pandas as pd\n",
    "import matplotlib.pyplot as plt\n",
    "\n",
    "import sklearn\n",
    "\n",
    "import os\n",
    "import math\n",
    "\n",
    "import seaborn as sns\n",
    "\n",
    "#Additional imports\n",
    "import time\n",
    "from sklearn.model_selection import train_test_split, GridSearchCV\n",
    "from sklearn import linear_model, preprocessing\n",
    "from sklearn.linear_model import LogisticRegression\n",
    "from sklearn.model_selection import cross_val_score, cross_val_predict\n",
    "from sklearn.preprocessing import StandardScaler\n",
    "from sklearn.impute import SimpleImputer\n",
    "from sklearn.pipeline import Pipeline\n",
    "from sklearn.ensemble import RandomForestClassifier\n",
    "from imblearn.combine import SMOTEENN\n",
    "from imblearn.pipeline import make_pipeline, Pipeline\n",
    "from sklearn.svm import SVC\n",
    "from sklearn.metrics import accuracy_score,recall_score, precision_score, f1_score, plot_confusion_matrix, balanced_accuracy_score, plot_precision_recall_curve, plot_roc_curve, precision_recall_curve\n",
    "from sklearn.decomposition import PCA\n",
    "\n",
    "%matplotlib inline\n"
   ]
  },
  {
   "cell_type": "markdown",
   "metadata": {},
   "source": [
    "# API for students"
   ]
  },
  {
   "cell_type": "code",
   "execution_count": 2,
   "metadata": {},
   "outputs": [],
   "source": [
    "## Load the bankruptcy_helper module\n",
    "\n",
    "from IPython.core.interactiveshell import InteractiveShell\n",
    "InteractiveShell.ast_node_interactivity = \"all\"\n",
    "\n",
    "# Reload all modules imported with %aimport\n",
    "%load_ext autoreload\n",
    "%autoreload 1\n",
    "\n",
    "# Import bankruptcy_helper module\n",
    "import bankruptcy_helper\n",
    "%aimport bankruptcy_helper\n",
    "\n",
    "import class_helper\n",
    "%aimport class_helper\n",
    "\n",
    "clh= class_helper.Classification_Helper()\n",
    "\n",
    "helper = bankruptcy_helper.Helper()"
   ]
  },
  {
   "cell_type": "markdown",
   "metadata": {},
   "source": [
    "# Get the data\n",
    "\n",
    "The first step in our Recipe is Get the Data.\n",
    "\n",
    "- Each example is a row of data corresponding to a single company\n",
    "- There are 64 attributes, described in the section below\n",
    "- The column `Bankrupt` is 1 if the company subsequently went bankrupt; 0 if it did not go bankrupt\n",
    "- The column `Id` is a Company Identifier"
   ]
  },
  {
   "cell_type": "code",
   "execution_count": 3,
   "metadata": {},
   "outputs": [
    {
     "name": "stdout",
     "output_type": "stream",
     "text": [
      "Date shape:  (4818, 66)\n"
     ]
    }
   ],
   "source": [
    "# Data directory\n",
    "DATA_DIR = \"./Data\"\n",
    "\n",
    "if not os.path.isdir(DATA_DIR):\n",
    "    DATA_DIR = \"../resource/asnlib/publicdata/bankruptcy/data\"\n",
    "\n",
    "data_file = \"5th_yr.csv\"\n",
    "data = pd.read_csv( os.path.join(DATA_DIR, \"train\", data_file) )\n",
    "\n",
    "target_attr = \"Bankrupt\"\n",
    "\n",
    "n_samples, n_attrs = data.shape\n",
    "print(\"Date shape: \", data.shape)"
   ]
  },
  {
   "cell_type": "markdown",
   "metadata": {},
   "source": [
    "## Have a look at the data\n",
    "\n",
    "We will not go through all steps in the Recipe, nor in depth.\n",
    "\n",
    "But here's a peek"
   ]
  },
  {
   "cell_type": "code",
   "execution_count": 4,
   "metadata": {},
   "outputs": [
    {
     "data": {
      "text/html": [
       "<div>\n",
       "<style scoped>\n",
       "    .dataframe tbody tr th:only-of-type {\n",
       "        vertical-align: middle;\n",
       "    }\n",
       "\n",
       "    .dataframe tbody tr th {\n",
       "        vertical-align: top;\n",
       "    }\n",
       "\n",
       "    .dataframe thead th {\n",
       "        text-align: right;\n",
       "    }\n",
       "</style>\n",
       "<table border=\"1\" class=\"dataframe\">\n",
       "  <thead>\n",
       "    <tr style=\"text-align: right;\">\n",
       "      <th></th>\n",
       "      <th>X1</th>\n",
       "      <th>X2</th>\n",
       "      <th>X3</th>\n",
       "      <th>X4</th>\n",
       "      <th>X5</th>\n",
       "      <th>X6</th>\n",
       "      <th>X7</th>\n",
       "      <th>X8</th>\n",
       "      <th>X9</th>\n",
       "      <th>X10</th>\n",
       "      <th>...</th>\n",
       "      <th>X57</th>\n",
       "      <th>X58</th>\n",
       "      <th>X59</th>\n",
       "      <th>X60</th>\n",
       "      <th>X61</th>\n",
       "      <th>X62</th>\n",
       "      <th>X63</th>\n",
       "      <th>X64</th>\n",
       "      <th>Bankrupt</th>\n",
       "      <th>Id</th>\n",
       "    </tr>\n",
       "  </thead>\n",
       "  <tbody>\n",
       "    <tr>\n",
       "      <th>0</th>\n",
       "      <td>0.025417</td>\n",
       "      <td>0.41769</td>\n",
       "      <td>0.0568</td>\n",
       "      <td>1.1605</td>\n",
       "      <td>-126.39</td>\n",
       "      <td>0.41355</td>\n",
       "      <td>0.025417</td>\n",
       "      <td>1.2395</td>\n",
       "      <td>1.16500</td>\n",
       "      <td>0.51773</td>\n",
       "      <td>...</td>\n",
       "      <td>0.049094</td>\n",
       "      <td>0.85835</td>\n",
       "      <td>0.12322</td>\n",
       "      <td>5.6167</td>\n",
       "      <td>7.4042</td>\n",
       "      <td>164.310</td>\n",
       "      <td>2.2214</td>\n",
       "      <td>1.334</td>\n",
       "      <td>0</td>\n",
       "      <td>4510</td>\n",
       "    </tr>\n",
       "    <tr>\n",
       "      <th>1</th>\n",
       "      <td>-0.023834</td>\n",
       "      <td>0.2101</td>\n",
       "      <td>0.50839</td>\n",
       "      <td>4.2374</td>\n",
       "      <td>22.034</td>\n",
       "      <td>0.058412</td>\n",
       "      <td>-0.027621</td>\n",
       "      <td>3.6579</td>\n",
       "      <td>0.98183</td>\n",
       "      <td>0.76855</td>\n",
       "      <td>...</td>\n",
       "      <td>-0.031011</td>\n",
       "      <td>1.01850</td>\n",
       "      <td>0.069047</td>\n",
       "      <td>5.7996</td>\n",
       "      <td>7.7529</td>\n",
       "      <td>26.446</td>\n",
       "      <td>13.802</td>\n",
       "      <td>6.4782</td>\n",
       "      <td>0</td>\n",
       "      <td>3537</td>\n",
       "    </tr>\n",
       "    <tr>\n",
       "      <th>2</th>\n",
       "      <td>0.030515</td>\n",
       "      <td>0.44606</td>\n",
       "      <td>0.19569</td>\n",
       "      <td>1.565</td>\n",
       "      <td>35.766</td>\n",
       "      <td>0.28196</td>\n",
       "      <td>0.039264</td>\n",
       "      <td>0.88456</td>\n",
       "      <td>1.05260</td>\n",
       "      <td>0.39457</td>\n",
       "      <td>...</td>\n",
       "      <td>0.077337</td>\n",
       "      <td>0.95006</td>\n",
       "      <td>0.25266</td>\n",
       "      <td>15.049</td>\n",
       "      <td>2.8179</td>\n",
       "      <td>104.730</td>\n",
       "      <td>3.4852</td>\n",
       "      <td>2.6361</td>\n",
       "      <td>0</td>\n",
       "      <td>3920</td>\n",
       "    </tr>\n",
       "    <tr>\n",
       "      <th>3</th>\n",
       "      <td>0.052318</td>\n",
       "      <td>0.056366</td>\n",
       "      <td>0.54562</td>\n",
       "      <td>10.68</td>\n",
       "      <td>438.2</td>\n",
       "      <td>0.13649</td>\n",
       "      <td>0.058164</td>\n",
       "      <td>10.853</td>\n",
       "      <td>1.02790</td>\n",
       "      <td>0.61173</td>\n",
       "      <td>...</td>\n",
       "      <td>0.085524</td>\n",
       "      <td>0.97282</td>\n",
       "      <td>0</td>\n",
       "      <td>6.0157</td>\n",
       "      <td>7.4626</td>\n",
       "      <td>48.756</td>\n",
       "      <td>7.4863</td>\n",
       "      <td>1.0602</td>\n",
       "      <td>0</td>\n",
       "      <td>1806</td>\n",
       "    </tr>\n",
       "    <tr>\n",
       "      <th>4</th>\n",
       "      <td>0.000992</td>\n",
       "      <td>0.49712</td>\n",
       "      <td>0.12316</td>\n",
       "      <td>1.3036</td>\n",
       "      <td>-71.398</td>\n",
       "      <td>0</td>\n",
       "      <td>0.001007</td>\n",
       "      <td>1.0116</td>\n",
       "      <td>1.29210</td>\n",
       "      <td>0.50288</td>\n",
       "      <td>...</td>\n",
       "      <td>0.001974</td>\n",
       "      <td>0.99925</td>\n",
       "      <td>0.019736</td>\n",
       "      <td>3.4819</td>\n",
       "      <td>8.582</td>\n",
       "      <td>114.580</td>\n",
       "      <td>3.1854</td>\n",
       "      <td>2.742</td>\n",
       "      <td>0</td>\n",
       "      <td>1529</td>\n",
       "    </tr>\n",
       "  </tbody>\n",
       "</table>\n",
       "<p>5 rows × 66 columns</p>\n",
       "</div>"
      ],
      "text/plain": [
       "          X1        X2       X3      X4       X5        X6         X7  \\\n",
       "0   0.025417   0.41769   0.0568  1.1605  -126.39   0.41355   0.025417   \n",
       "1  -0.023834    0.2101  0.50839  4.2374   22.034  0.058412  -0.027621   \n",
       "2   0.030515   0.44606  0.19569   1.565   35.766   0.28196   0.039264   \n",
       "3   0.052318  0.056366  0.54562   10.68    438.2   0.13649   0.058164   \n",
       "4   0.000992   0.49712  0.12316  1.3036  -71.398         0   0.001007   \n",
       "\n",
       "        X8       X9      X10  ...        X57      X58       X59     X60  \\\n",
       "0   1.2395  1.16500  0.51773  ...   0.049094  0.85835   0.12322  5.6167   \n",
       "1   3.6579  0.98183  0.76855  ...  -0.031011  1.01850  0.069047  5.7996   \n",
       "2  0.88456  1.05260  0.39457  ...   0.077337  0.95006   0.25266  15.049   \n",
       "3   10.853  1.02790  0.61173  ...   0.085524  0.97282         0  6.0157   \n",
       "4   1.0116  1.29210  0.50288  ...   0.001974  0.99925  0.019736  3.4819   \n",
       "\n",
       "      X61      X62     X63     X64  Bankrupt    Id  \n",
       "0  7.4042  164.310  2.2214   1.334         0  4510  \n",
       "1  7.7529   26.446  13.802  6.4782         0  3537  \n",
       "2  2.8179  104.730  3.4852  2.6361         0  3920  \n",
       "3  7.4626   48.756  7.4863  1.0602         0  1806  \n",
       "4   8.582  114.580  3.1854   2.742         0  1529  \n",
       "\n",
       "[5 rows x 66 columns]"
      ]
     },
     "execution_count": 4,
     "metadata": {},
     "output_type": "execute_result"
    }
   ],
   "source": [
    "data.head()"
   ]
  },
  {
   "cell_type": "markdown",
   "metadata": {},
   "source": [
    "Pretty *unhelpful* !\n",
    "\n",
    "What are these mysteriously named features ?\n",
    "\n",
    "## Description of attributes"
   ]
  },
  {
   "cell_type": "raw",
   "metadata": {},
   "source": [
    "Attribute Information:\n",
    "\n",
    "Id Company Identifier \n",
    "X1 net profit / total assets\n",
    "X2 total liabilities / total assets\n",
    "X3 working capital / total assets\n",
    "X4 current assets / short-term liabilities\n",
    "X5 [(cash + short-term securities + receivables - short-term liabilities) / (operating expenses - depreciation)] * 365\n",
    "X6 retained earnings / total assets\n",
    "X7 EBIT / total assets\n",
    "X8 book value of equity / total liabilities\n",
    "X9 sales / total assets\n",
    "X10 equity / total assets\n",
    "X11 (gross profit + extraordinary items + financial expenses) / total assets\n",
    "X12 gross profit / short-term liabilities\n",
    "X13 (gross profit + depreciation) / sales\n",
    "X14 (gross profit + interest) / total assets\n",
    "X15 (total liabilities * 365) / (gross profit + depreciation)\n",
    "X16 (gross profit + depreciation) / total liabilities\n",
    "X17 total assets / total liabilities\n",
    "X18 gross profit / total assets\n",
    "X19 gross profit / sales\n",
    "X20 (inventory * 365) / sales\n",
    "X21 sales (n) / sales (n-1)\n",
    "X22 profit on operating activities / total assets\n",
    "X23 net profit / sales\n",
    "X24 gross profit (in 3 years) / total assets\n",
    "X25 (equity - share capital) / total assets\n",
    "X26 (net profit + depreciation) / total liabilities\n",
    "X27 profit on operating activities / financial expenses\n",
    "X28 working capital / fixed assets\n",
    "X29 logarithm of total assets\n",
    "X30 (total liabilities - cash) / sales\n",
    "X31 (gross profit + interest) / sales\n",
    "X32 (current liabilities * 365) / cost of products sold\n",
    "X33 operating expenses / short-term liabilities\n",
    "X34 operating expenses / total liabilities\n",
    "X35 profit on sales / total assets\n",
    "X36 total sales / total assets\n",
    "X37 (current assets - inventories) / long-term liabilities\n",
    "X38 constant capital / total assets\n",
    "X39 profit on sales / sales\n",
    "X40 (current assets - inventory - receivables) / short-term liabilities\n",
    "X41 total liabilities / ((profit on operating activities + depreciation) * (12/365))\n",
    "X42 profit on operating activities / sales\n",
    "X43 rotation receivables + inventory turnover in days\n",
    "X44 (receivables * 365) / sales\n",
    "X45 net profit / inventory\n",
    "X46 (current assets - inventory) / short-term liabilities\n",
    "X47 (inventory * 365) / cost of products sold\n",
    "X48 EBITDA (profit on operating activities - depreciation) / total assets\n",
    "X49 EBITDA (profit on operating activities - depreciation) / sales\n",
    "X50 current assets / total liabilities\n",
    "X51 short-term liabilities / total assets\n",
    "X52 (short-term liabilities * 365) / cost of products sold)\n",
    "X53 equity / fixed assets\n",
    "X54 constant capital / fixed assets\n",
    "X55 working capital\n",
    "X56 (sales - cost of products sold) / sales\n",
    "X57 (current assets - inventory - short-term liabilities) / (sales - gross profit - depreciation)\n",
    "X58 total costs /total sales\n",
    "X59 long-term liabilities / equity\n",
    "X60 sales / inventory\n",
    "X61 sales / receivables\n",
    "X62 (short-term liabilities *365) / sales\n",
    "X63 sales / short-term liabilities\n",
    "X64 sales / fixed assets\n"
   ]
  },
  {
   "cell_type": "markdown",
   "metadata": {},
   "source": [
    "This may still be somewhat unhelpful for those of you not used to reading Financial Statements.\n",
    "\n",
    "But that's partially the point of the exercise\n",
    "- You can *still* perform Machine Learning *even if* you are not an expert in the problem domain\n",
    "    - That's what makes this a good interview exercise: you can demonstrate your thought process even if you don't know the exact meaning of the terms\n",
    "- Of course: becoming an expert in the domain *will improve* your ability to create better models\n",
    "    - Feature engineering is easier if you understand the features, their inter-relationships, and the relationship to the target"
   ]
  },
  {
   "cell_type": "markdown",
   "metadata": {},
   "source": [
    "Let's get a feel for the data\n",
    "- What is the type of each attribute ?\n"
   ]
  },
  {
   "cell_type": "code",
   "execution_count": 5,
   "metadata": {},
   "outputs": [
    {
     "name": "stdout",
     "output_type": "stream",
     "text": [
      "<class 'pandas.core.frame.DataFrame'>\n",
      "RangeIndex: 4818 entries, 0 to 4817\n",
      "Data columns (total 66 columns):\n",
      " #   Column    Non-Null Count  Dtype  \n",
      "---  ------    --------------  -----  \n",
      " 0   X1        4818 non-null   object \n",
      " 1   X2        4818 non-null   object \n",
      " 2   X3        4818 non-null   object \n",
      " 3   X4        4818 non-null   object \n",
      " 4   X5        4818 non-null   object \n",
      " 5   X6        4818 non-null   object \n",
      " 6   X7        4818 non-null   object \n",
      " 7   X8        4818 non-null   object \n",
      " 8   X9        4818 non-null   float64\n",
      " 9   X10       4818 non-null   object \n",
      " 10  X11       4818 non-null   object \n",
      " 11  X12       4818 non-null   object \n",
      " 12  X13       4818 non-null   float64\n",
      " 13  X14       4818 non-null   object \n",
      " 14  X15       4818 non-null   object \n",
      " 15  X16       4818 non-null   object \n",
      " 16  X17       4818 non-null   object \n",
      " 17  X18       4818 non-null   object \n",
      " 18  X19       4818 non-null   float64\n",
      " 19  X20       4818 non-null   float64\n",
      " 20  X21       4818 non-null   object \n",
      " 21  X22       4818 non-null   object \n",
      " 22  X23       4818 non-null   float64\n",
      " 23  X24       4818 non-null   object \n",
      " 24  X25       4818 non-null   object \n",
      " 25  X26       4818 non-null   object \n",
      " 26  X27       4818 non-null   object \n",
      " 27  X28       4818 non-null   object \n",
      " 28  X29       4818 non-null   object \n",
      " 29  X30       4818 non-null   float64\n",
      " 30  X31       4818 non-null   float64\n",
      " 31  X32       4818 non-null   object \n",
      " 32  X33       4818 non-null   object \n",
      " 33  X34       4818 non-null   object \n",
      " 34  X35       4818 non-null   object \n",
      " 35  X36       4818 non-null   object \n",
      " 36  X37       4818 non-null   object \n",
      " 37  X38       4818 non-null   object \n",
      " 38  X39       4818 non-null   float64\n",
      " 39  X40       4818 non-null   object \n",
      " 40  X41       4818 non-null   object \n",
      " 41  X42       4818 non-null   float64\n",
      " 42  X43       4818 non-null   float64\n",
      " 43  X44       4818 non-null   float64\n",
      " 44  X45       4818 non-null   object \n",
      " 45  X46       4818 non-null   object \n",
      " 46  X47       4818 non-null   object \n",
      " 47  X48       4818 non-null   object \n",
      " 48  X49       4818 non-null   float64\n",
      " 49  X50       4818 non-null   object \n",
      " 50  X51       4818 non-null   object \n",
      " 51  X52       4818 non-null   object \n",
      " 52  X53       4818 non-null   object \n",
      " 53  X54       4818 non-null   object \n",
      " 54  X55       4818 non-null   float64\n",
      " 55  X56       4818 non-null   float64\n",
      " 56  X57       4818 non-null   object \n",
      " 57  X58       4818 non-null   float64\n",
      " 58  X59       4818 non-null   object \n",
      " 59  X60       4818 non-null   object \n",
      " 60  X61       4818 non-null   object \n",
      " 61  X62       4818 non-null   float64\n",
      " 62  X63       4818 non-null   object \n",
      " 63  X64       4818 non-null   object \n",
      " 64  Bankrupt  4818 non-null   int64  \n",
      " 65  Id        4818 non-null   int64  \n",
      "dtypes: float64(16), int64(2), object(48)\n",
      "memory usage: 2.4+ MB\n"
     ]
    }
   ],
   "source": [
    "data.info()"
   ]
  },
  {
   "cell_type": "markdown",
   "metadata": {},
   "source": [
    "You may be puzzled:\n",
    "- Most attributes are `object` and *not* numeric (`float64`)\n",
    "- But looking at the data via `data.head()` certainly gives the impression that all attributes are numeric\n",
    "\n",
    "Welcome to the world of messy data !  The dataset has represented numbers as strings.\n",
    "- These little unexpected challenges are common in the real-word\n",
    "- Data is rarely perfect and clean"
   ]
  },
  {
   "cell_type": "markdown",
   "metadata": {},
   "source": [
    "So you might want to first convert all attributes to numeric\n",
    "\n",
    "**Hint**\n",
    "- Look up the Pandas method `to_numeric`\n",
    "    - We suggest you use the option `errors='coerce'`\n",
    "    "
   ]
  },
  {
   "cell_type": "markdown",
   "metadata": {},
   "source": [
    "## Clean the Data "
   ]
  },
  {
   "cell_type": "code",
   "execution_count": 6,
   "metadata": {},
   "outputs": [
    {
     "data": {
      "text/html": [
       "<div>\n",
       "<style scoped>\n",
       "    .dataframe tbody tr th:only-of-type {\n",
       "        vertical-align: middle;\n",
       "    }\n",
       "\n",
       "    .dataframe tbody tr th {\n",
       "        vertical-align: top;\n",
       "    }\n",
       "\n",
       "    .dataframe thead th {\n",
       "        text-align: right;\n",
       "    }\n",
       "</style>\n",
       "<table border=\"1\" class=\"dataframe\">\n",
       "  <thead>\n",
       "    <tr style=\"text-align: right;\">\n",
       "      <th></th>\n",
       "      <th>X1</th>\n",
       "      <th>X2</th>\n",
       "      <th>X3</th>\n",
       "      <th>X4</th>\n",
       "      <th>X5</th>\n",
       "      <th>X6</th>\n",
       "      <th>X7</th>\n",
       "      <th>X8</th>\n",
       "      <th>X9</th>\n",
       "      <th>X10</th>\n",
       "      <th>...</th>\n",
       "      <th>X57</th>\n",
       "      <th>X58</th>\n",
       "      <th>X59</th>\n",
       "      <th>X60</th>\n",
       "      <th>X61</th>\n",
       "      <th>X62</th>\n",
       "      <th>X63</th>\n",
       "      <th>X64</th>\n",
       "      <th>Bankrupt</th>\n",
       "      <th>Id</th>\n",
       "    </tr>\n",
       "  </thead>\n",
       "  <tbody>\n",
       "    <tr>\n",
       "      <th>0</th>\n",
       "      <td>0.025417</td>\n",
       "      <td>0.417690</td>\n",
       "      <td>0.05680</td>\n",
       "      <td>1.1605</td>\n",
       "      <td>-126.390</td>\n",
       "      <td>0.413550</td>\n",
       "      <td>0.025417</td>\n",
       "      <td>1.23950</td>\n",
       "      <td>1.16500</td>\n",
       "      <td>0.51773</td>\n",
       "      <td>...</td>\n",
       "      <td>0.049094</td>\n",
       "      <td>0.85835</td>\n",
       "      <td>0.123220</td>\n",
       "      <td>5.6167</td>\n",
       "      <td>7.4042</td>\n",
       "      <td>164.310</td>\n",
       "      <td>2.2214</td>\n",
       "      <td>1.3340</td>\n",
       "      <td>0</td>\n",
       "      <td>4510</td>\n",
       "    </tr>\n",
       "    <tr>\n",
       "      <th>1</th>\n",
       "      <td>-0.023834</td>\n",
       "      <td>0.210100</td>\n",
       "      <td>0.50839</td>\n",
       "      <td>4.2374</td>\n",
       "      <td>22.034</td>\n",
       "      <td>0.058412</td>\n",
       "      <td>-0.027621</td>\n",
       "      <td>3.65790</td>\n",
       "      <td>0.98183</td>\n",
       "      <td>0.76855</td>\n",
       "      <td>...</td>\n",
       "      <td>-0.031011</td>\n",
       "      <td>1.01850</td>\n",
       "      <td>0.069047</td>\n",
       "      <td>5.7996</td>\n",
       "      <td>7.7529</td>\n",
       "      <td>26.446</td>\n",
       "      <td>13.8020</td>\n",
       "      <td>6.4782</td>\n",
       "      <td>0</td>\n",
       "      <td>3537</td>\n",
       "    </tr>\n",
       "    <tr>\n",
       "      <th>2</th>\n",
       "      <td>0.030515</td>\n",
       "      <td>0.446060</td>\n",
       "      <td>0.19569</td>\n",
       "      <td>1.5650</td>\n",
       "      <td>35.766</td>\n",
       "      <td>0.281960</td>\n",
       "      <td>0.039264</td>\n",
       "      <td>0.88456</td>\n",
       "      <td>1.05260</td>\n",
       "      <td>0.39457</td>\n",
       "      <td>...</td>\n",
       "      <td>0.077337</td>\n",
       "      <td>0.95006</td>\n",
       "      <td>0.252660</td>\n",
       "      <td>15.0490</td>\n",
       "      <td>2.8179</td>\n",
       "      <td>104.730</td>\n",
       "      <td>3.4852</td>\n",
       "      <td>2.6361</td>\n",
       "      <td>0</td>\n",
       "      <td>3920</td>\n",
       "    </tr>\n",
       "    <tr>\n",
       "      <th>3</th>\n",
       "      <td>0.052318</td>\n",
       "      <td>0.056366</td>\n",
       "      <td>0.54562</td>\n",
       "      <td>10.6800</td>\n",
       "      <td>438.200</td>\n",
       "      <td>0.136490</td>\n",
       "      <td>0.058164</td>\n",
       "      <td>10.85300</td>\n",
       "      <td>1.02790</td>\n",
       "      <td>0.61173</td>\n",
       "      <td>...</td>\n",
       "      <td>0.085524</td>\n",
       "      <td>0.97282</td>\n",
       "      <td>0.000000</td>\n",
       "      <td>6.0157</td>\n",
       "      <td>7.4626</td>\n",
       "      <td>48.756</td>\n",
       "      <td>7.4863</td>\n",
       "      <td>1.0602</td>\n",
       "      <td>0</td>\n",
       "      <td>1806</td>\n",
       "    </tr>\n",
       "    <tr>\n",
       "      <th>4</th>\n",
       "      <td>0.000992</td>\n",
       "      <td>0.497120</td>\n",
       "      <td>0.12316</td>\n",
       "      <td>1.3036</td>\n",
       "      <td>-71.398</td>\n",
       "      <td>0.000000</td>\n",
       "      <td>0.001007</td>\n",
       "      <td>1.01160</td>\n",
       "      <td>1.29210</td>\n",
       "      <td>0.50288</td>\n",
       "      <td>...</td>\n",
       "      <td>0.001974</td>\n",
       "      <td>0.99925</td>\n",
       "      <td>0.019736</td>\n",
       "      <td>3.4819</td>\n",
       "      <td>8.5820</td>\n",
       "      <td>114.580</td>\n",
       "      <td>3.1854</td>\n",
       "      <td>2.7420</td>\n",
       "      <td>0</td>\n",
       "      <td>1529</td>\n",
       "    </tr>\n",
       "  </tbody>\n",
       "</table>\n",
       "<p>5 rows × 66 columns</p>\n",
       "</div>"
      ],
      "text/plain": [
       "         X1        X2       X3       X4       X5        X6        X7  \\\n",
       "0  0.025417  0.417690  0.05680   1.1605 -126.390  0.413550  0.025417   \n",
       "1 -0.023834  0.210100  0.50839   4.2374   22.034  0.058412 -0.027621   \n",
       "2  0.030515  0.446060  0.19569   1.5650   35.766  0.281960  0.039264   \n",
       "3  0.052318  0.056366  0.54562  10.6800  438.200  0.136490  0.058164   \n",
       "4  0.000992  0.497120  0.12316   1.3036  -71.398  0.000000  0.001007   \n",
       "\n",
       "         X8       X9      X10  ...       X57      X58       X59      X60  \\\n",
       "0   1.23950  1.16500  0.51773  ...  0.049094  0.85835  0.123220   5.6167   \n",
       "1   3.65790  0.98183  0.76855  ... -0.031011  1.01850  0.069047   5.7996   \n",
       "2   0.88456  1.05260  0.39457  ...  0.077337  0.95006  0.252660  15.0490   \n",
       "3  10.85300  1.02790  0.61173  ...  0.085524  0.97282  0.000000   6.0157   \n",
       "4   1.01160  1.29210  0.50288  ...  0.001974  0.99925  0.019736   3.4819   \n",
       "\n",
       "      X61      X62      X63     X64  Bankrupt    Id  \n",
       "0  7.4042  164.310   2.2214  1.3340         0  4510  \n",
       "1  7.7529   26.446  13.8020  6.4782         0  3537  \n",
       "2  2.8179  104.730   3.4852  2.6361         0  3920  \n",
       "3  7.4626   48.756   7.4863  1.0602         0  1806  \n",
       "4  8.5820  114.580   3.1854  2.7420         0  1529  \n",
       "\n",
       "[5 rows x 66 columns]"
      ]
     },
     "execution_count": 6,
     "metadata": {},
     "output_type": "execute_result"
    },
    {
     "name": "stdout",
     "output_type": "stream",
     "text": [
      "<class 'pandas.core.frame.DataFrame'>\n",
      "RangeIndex: 4818 entries, 0 to 4817\n",
      "Data columns (total 66 columns):\n",
      " #   Column    Non-Null Count  Dtype  \n",
      "---  ------    --------------  -----  \n",
      " 0   X1        4816 non-null   float64\n",
      " 1   X2        4816 non-null   float64\n",
      " 2   X3        4816 non-null   float64\n",
      " 3   X4        4803 non-null   float64\n",
      " 4   X5        4808 non-null   float64\n",
      " 5   X6        4816 non-null   float64\n",
      " 6   X7        4816 non-null   float64\n",
      " 7   X8        4804 non-null   float64\n",
      " 8   X9        4818 non-null   float64\n",
      " 9   X10       4816 non-null   float64\n",
      " 10  X11       4816 non-null   float64\n",
      " 11  X12       4803 non-null   float64\n",
      " 12  X13       4818 non-null   float64\n",
      " 13  X14       4816 non-null   float64\n",
      " 14  X15       4812 non-null   float64\n",
      " 15  X16       4804 non-null   float64\n",
      " 16  X17       4804 non-null   float64\n",
      " 17  X18       4816 non-null   float64\n",
      " 18  X19       4818 non-null   float64\n",
      " 19  X20       4818 non-null   float64\n",
      " 20  X21       4744 non-null   float64\n",
      " 21  X22       4816 non-null   float64\n",
      " 22  X23       4818 non-null   float64\n",
      " 23  X24       4702 non-null   float64\n",
      " 24  X25       4816 non-null   float64\n",
      " 25  X26       4804 non-null   float64\n",
      " 26  X27       4513 non-null   float64\n",
      " 27  X28       4735 non-null   float64\n",
      " 28  X29       4816 non-null   float64\n",
      " 29  X30       4818 non-null   float64\n",
      " 30  X31       4818 non-null   float64\n",
      " 31  X32       4776 non-null   float64\n",
      " 32  X33       4803 non-null   float64\n",
      " 33  X34       4804 non-null   float64\n",
      " 34  X35       4816 non-null   float64\n",
      " 35  X36       4816 non-null   float64\n",
      " 36  X37       2750 non-null   float64\n",
      " 37  X38       4816 non-null   float64\n",
      " 38  X39       4818 non-null   float64\n",
      " 39  X40       4803 non-null   float64\n",
      " 40  X41       4756 non-null   float64\n",
      " 41  X42       4818 non-null   float64\n",
      " 42  X43       4818 non-null   float64\n",
      " 43  X44       4818 non-null   float64\n",
      " 44  X45       4598 non-null   float64\n",
      " 45  X46       4803 non-null   float64\n",
      " 46  X47       4787 non-null   float64\n",
      " 47  X48       4816 non-null   float64\n",
      " 48  X49       4818 non-null   float64\n",
      " 49  X50       4804 non-null   float64\n",
      " 50  X51       4816 non-null   float64\n",
      " 51  X52       4786 non-null   float64\n",
      " 52  X53       4735 non-null   float64\n",
      " 53  X54       4735 non-null   float64\n",
      " 54  X55       4818 non-null   float64\n",
      " 55  X56       4818 non-null   float64\n",
      " 56  X57       4816 non-null   float64\n",
      " 57  X58       4818 non-null   float64\n",
      " 58  X59       4816 non-null   float64\n",
      " 59  X60       4598 non-null   float64\n",
      " 60  X61       4806 non-null   float64\n",
      " 61  X62       4818 non-null   float64\n",
      " 62  X63       4803 non-null   float64\n",
      " 63  X64       4735 non-null   float64\n",
      " 64  Bankrupt  4818 non-null   int64  \n",
      " 65  Id        4818 non-null   int64  \n",
      "dtypes: float64(64), int64(2)\n",
      "memory usage: 2.4 MB\n"
     ]
    }
   ],
   "source": [
    "#From the observation above, we will convert all the object dtypes to float dtypes\n",
    "#We will also replace any non numeric entries with NaN\n",
    "\n",
    "#Create function which calls each column that has object dtypes and change them to  \n",
    "def Numerictransform(df):\n",
    "    cols = df.columns[df.dtypes.eq('object')] #selects all columns with objects dtypes\n",
    "    df[cols] = df[cols].apply(pd.to_numeric, errors='coerce')\n",
    "    #df.replace([np.inf, -np.inf], np.nan, inplace=True)\n",
    "    return df\n",
    "\n",
    "df = Numerictransform(data)\n",
    "df.head() \n",
    "df.info()\n"
   ]
  },
  {
   "cell_type": "markdown",
   "metadata": {},
   "source": [
    "There are 4818 companies.\n",
    "- After transforming data, we can see that there is some missings data points\n",
    "- There are some columns with large data missing: X37, X27, X45, X60\n"
   ]
  },
  {
   "cell_type": "markdown",
   "metadata": {},
   "source": [
    "Most notably, feature X37 ((current assets - inventories) / long-term liabilities) is missing over 2000 values. This is probably because some companies don't have long-term liabilites, making the input undefined."
   ]
  },
  {
   "cell_type": "markdown",
   "metadata": {},
   "source": [
    "## Create test set "
   ]
  },
  {
   "cell_type": "markdown",
   "metadata": {},
   "source": [
    "Since this data set is technically a training set for the withheld data it will be used to train the model in the end.\n",
    "\n",
    "For the time being it will be used as training and test sets in order to measure model performance through the iterations in the following steps."
   ]
  },
  {
   "cell_type": "code",
   "execution_count": 7,
   "metadata": {},
   "outputs": [
    {
     "name": "stdout",
     "output_type": "stream",
     "text": [
      "X_train shape:  (4336, 64)\n",
      "X_test shape:  (482, 64)\n",
      "y_train shape:  (4336,)\n",
      "y_test shape:  (482,)\n"
     ]
    }
   ],
   "source": [
    "#create feature subset(attributes X1 thru X64) and target subset(Bankruptcy indicator)\n",
    "y = df[\"Bankrupt\"]\n",
    "X = df.drop(columns=[\"Bankrupt\", \"Id\"])\n",
    "\n",
    "X_train = None\n",
    "X_test = None\n",
    "y_train = None\n",
    "y_test = None\n",
    "\n",
    "# Split data into train and test\n",
    "# Create variables X_train, X_test, y_train, y_test\n",
    "#   X_train: training examples\n",
    "#   y_train: Bankruptcy labels of the training examples\n",
    "#   X_test:  test examples\n",
    "#   y_test:  Bankruptcy labels of test examples\n",
    "\n",
    "X_train, X_test, y_train, y_test = train_test_split(X, y, test_size=0.10, random_state=47)\n",
    "\n",
    "print(\"X_train shape: \", X_train.shape)\n",
    "print(\"X_test shape: \", X_test.shape)\n",
    "print(\"y_train shape: \", y_train.shape)\n",
    "print(\"y_test shape: \", y_test.shape)"
   ]
  },
  {
   "cell_type": "markdown",
   "metadata": {},
   "source": [
    "# Exploratory Data Analysis"
   ]
  },
  {
   "cell_type": "code",
   "execution_count": 8,
   "metadata": {},
   "outputs": [],
   "source": [
    "train_data = pd.concat([X_train, y_train], axis=1, join=\"inner\")"
   ]
  },
  {
   "cell_type": "code",
   "execution_count": 9,
   "metadata": {
    "scrolled": true
   },
   "outputs": [
    {
     "data": {
      "image/png": "[encoded data removed]",
      "text/plain": [
       "<Figure size 576x144 with 2 Axes>"
      ]
     },
     "metadata": {
      "needs_background": "light"
     },
     "output_type": "display_data"
    }
   ],
   "source": [
    "clh.plot_attrs(train_data, [\"Bankrupt\"], attr_type=\"Cat\", plot=True, normalize=True)\n"
   ]
  },
  {
   "cell_type": "markdown",
   "metadata": {},
   "source": [
    "Theres a clear imbalance in the data.  This can be solved simply by choosing a model that is not senstivie to imbalance.  Such as Decision Trees."
   ]
  },
  {
   "cell_type": "code",
   "execution_count": 10,
   "metadata": {
    "scrolled": true
   },
   "outputs": [
    {
     "data": {
      "image/png": "[encoded data removed]",
      "text/plain": [
       "<Figure size 1440x720 with 1 Axes>"
      ]
     },
     "metadata": {
      "needs_background": "light"
     },
     "output_type": "display_data"
    }
   ],
   "source": [
    "_ = plt.figure(figsize=(20,10))\n",
    "_ = sns.boxplot(data = preprocessing.normalize(X.dropna()), orient=\"v\", fliersize=1)\n",
    "_ = plt.title(\"Box plot of features\")"
   ]
  },
  {
   "cell_type": "markdown",
   "metadata": {},
   "source": [
    "Most features have small standard deviations.\n",
    "- Some may have outliers"
   ]
  },
  {
   "cell_type": "code",
   "execution_count": 11,
   "metadata": {},
   "outputs": [],
   "source": [
    "train_bankrupt = train_data.loc[train_data['Bankrupt'] == 1]\n",
    "train_survived = train_data.loc[train_data['Bankrupt'] == 0]"
   ]
  },
  {
   "cell_type": "code",
   "execution_count": 12,
   "metadata": {
    "scrolled": false
   },
   "outputs": [
    {
     "data": {
      "image/png": "[encoded data removed]",
      "text/plain": [
       "<Figure size 576x432 with 4 Axes>"
      ]
     },
     "metadata": {
      "needs_background": "light"
     },
     "output_type": "display_data"
    }
   ],
   "source": [
    "clh.plot_attrs(train_survived, [\"X13\",\"X37\",\"X54\"], attr_type=\"Num\", normalize=True)"
   ]
  },
  {
   "cell_type": "code",
   "execution_count": 13,
   "metadata": {
    "scrolled": true
   },
   "outputs": [
    {
     "data": {
      "text/plain": [
       "count     2469.000000\n",
       "mean       104.283539\n",
       "std       1253.266086\n",
       "min         -4.325800\n",
       "25%          1.288700\n",
       "50%          3.687100\n",
       "75%         15.266000\n",
       "max      40559.000000\n",
       "Name: X37, dtype: float64"
      ]
     },
     "execution_count": 13,
     "metadata": {},
     "output_type": "execute_result"
    }
   ],
   "source": [
    "train_data[\"X37\"].describe()"
   ]
  },
  {
   "cell_type": "code",
   "execution_count": 14,
   "metadata": {},
   "outputs": [
    {
     "data": {
      "text/plain": [
       "count     128.000000\n",
       "mean       30.336652\n",
       "std       139.163699\n",
       "min         0.060415\n",
       "25%         1.037450\n",
       "50%         2.633150\n",
       "75%         8.705125\n",
       "max      1212.000000\n",
       "Name: X37, dtype: float64"
      ]
     },
     "execution_count": 14,
     "metadata": {},
     "output_type": "execute_result"
    },
    {
     "data": {
      "text/plain": [
       "count     2341.000000\n",
       "mean       108.326770\n",
       "std       1286.556116\n",
       "min         -4.325800\n",
       "25%          1.303400\n",
       "50%          3.757100\n",
       "75%         15.778000\n",
       "max      40559.000000\n",
       "Name: X37, dtype: float64"
      ]
     },
     "execution_count": 14,
     "metadata": {},
     "output_type": "execute_result"
    }
   ],
   "source": [
    "train_bankrupt[\"X37\"].describe()\n",
    "train_survived[\"X37\"].describe()"
   ]
  },
  {
   "cell_type": "code",
   "execution_count": 15,
   "metadata": {},
   "outputs": [
    {
     "data": {
      "image/png": "[encoded data removed]",
      "text/plain": [
       "<Figure size 720x720 with 2 Axes>"
      ]
     },
     "metadata": {
      "needs_background": "light"
     },
     "output_type": "display_data"
    }
   ],
   "source": [
    "# Heatmap of linear correlation between feature\n",
    "_ = plt.figure(figsize=(10,10))\n",
    "_ = sns.heatmap(X.corr(), vmin=-1, vmax=1)"
   ]
  },
  {
   "cell_type": "markdown",
   "metadata": {},
   "source": [
    "There are some highly correlated features, but majority have no linear correlation"
   ]
  },
  {
   "cell_type": "markdown",
   "metadata": {},
   "source": [
    "# Prepare Data and Transformations"
   ]
  },
  {
   "cell_type": "markdown",
   "metadata": {},
   "source": [
    "## Clean Data"
   ]
  },
  {
   "cell_type": "markdown",
   "metadata": {},
   "source": [
    "After seeing Feature X37 does not have a significant amount of values, it will be dropped from the training set"
   ]
  },
  {
   "cell_type": "code",
   "execution_count": 16,
   "metadata": {},
   "outputs": [
    {
     "name": "stdout",
     "output_type": "stream",
     "text": [
      "X_train shape:  (4336, 63)\n",
      "X_test shape:  (482, 63)\n",
      "y_train shape:  (4336,)\n",
      "y_test shape:  (482,)\n"
     ]
    }
   ],
   "source": [
    "#Create new training and test sets from original dataframe \n",
    "y = df[\"Bankrupt\"]\n",
    "X = df.drop(columns=[\"X37\", \"Bankrupt\",\"Id\"])\n",
    "\n",
    "X_train, X_test, y_train, y_test = train_test_split(X, y, test_size=0.10, random_state=47)\n",
    "\n",
    "print(\"X_train shape: \", X_train.shape)\n",
    "print(\"X_test shape: \", X_test.shape)\n",
    "print(\"y_train shape: \", y_train.shape)\n",
    "print(\"y_test shape: \", y_test.shape)"
   ]
  },
  {
   "cell_type": "markdown",
   "metadata": {},
   "source": [
    "## Transformation Objects"
   ]
  },
  {
   "cell_type": "markdown",
   "metadata": {},
   "source": [
    "The remainder of the features with missing values will be simply imputed with the mean."
   ]
  },
  {
   "cell_type": "code",
   "execution_count": 17,
   "metadata": {},
   "outputs": [],
   "source": [
    "## Create Scaler and Imputer Object\n",
    "scaler = None\n",
    "imputer = None\n",
    "\n",
    "scaler = StandardScaler()\n",
    "imputer = SimpleImputer(strategy='mean')"
   ]
  },
  {
   "cell_type": "markdown",
   "metadata": {},
   "source": [
    "# Training and Testing Models"
   ]
  },
  {
   "cell_type": "markdown",
   "metadata": {},
   "source": [
    "## Baseline Model"
   ]
  },
  {
   "cell_type": "markdown",
   "metadata": {},
   "source": [
    "The above Transformers will be used in a pipeline and will fit the following Classification models: \n",
    "- Logistic Regression\n",
    "- Support Vector Classifier (SVC)\n",
    "- Random Forest Calssifier  "
   ]
  },
  {
   "cell_type": "code",
   "execution_count": 18,
   "metadata": {},
   "outputs": [],
   "source": [
    "from sklearn.ensemble import RandomForestClassifier\n",
    "from sklearn.svm import SVC\n",
    "from sklearn.linear_model import LogisticRegression\n",
    "\n",
    "#Creating model objects\n",
    "logistic_clf = LogisticRegression(solver='liblinear')\n",
    "\n",
    "svc_clf = SVC(gamma=\"auto\")\n",
    "\n",
    "RF_clf = RandomForestClassifier(n_estimators=100, random_state=35)\n"
   ]
  },
  {
   "cell_type": "markdown",
   "metadata": {},
   "source": [
    "The below For Loop will both fit the models using cross-validation and produce both the in and out of sample scores for each model."
   ]
  },
  {
   "cell_type": "code",
   "execution_count": 19,
   "metadata": {},
   "outputs": [
    {
     "name": "stdout",
     "output_type": "stream",
     "text": [
      "Model: Logistic Regression avg cross validation score=0.9336\n",
      "\n",
      "       Logistic Regression out-of-sample score=0.9295\n",
      "\n",
      "Model: SVC avg cross validation score=0.9359\n",
      "\n",
      "       SVC out-of-sample score=0.9336\n",
      "\n",
      "Model: Random Forest avg cross validation score=0.9506\n",
      "\n",
      "       Random Forest out-of-sample score=0.9440\n",
      "\n"
     ]
    }
   ],
   "source": [
    "for name, clf in { \"Logistic Regression\": logistic_clf,\n",
    "                   \"SVC\": svc_clf,\n",
    "                   \"Random Forest\": RF_clf\n",
    "                 }.items():\n",
    "    \n",
    "    # Combine the transformation pipeline with a final classification step\n",
    "    model_pipeline = Pipeline(steps=[ (\"imputer\", imputer),\n",
    "                                      (\"Standardscaler\", scaler),\n",
    "                                      (\"classify\", clf)\n",
    "                                    ]\n",
    "                             )\n",
    "    \n",
    "    _= model_pipeline.fit(X_train, y_train)\n",
    "    \n",
    "    # Cross validation on the pipeline\n",
    "    scores = cross_val_score(model_pipeline, X_train, y_train, cv=10)\n",
    "    \n",
    "    # Out of Sample accuracy scores\n",
    "    y_test_pred = model_pipeline.predict(X_test)\n",
    "    score_out_of_sample = accuracy_score(y_test, y_test_pred)\n",
    "    \n",
    "    print(\"Model: {m:s} avg cross validation score={s:3.4f}\\n\".format(m=name, s=scores.mean()))\n",
    "    print(\"       {m:s} out-of-sample score={s:3.4f}\\n\".format(m=name, s=score_out_of_sample))"
   ]
  },
  {
   "cell_type": "markdown",
   "metadata": {},
   "source": [
    "It can be seen from the scores above that the Random Forect Classifier provides the best scores both in and out of sample.    \n",
    "\n",
    "We will analyze this model and see if we can further improve the scores."
   ]
  },
  {
   "cell_type": "markdown",
   "metadata": {},
   "source": [
    "## Evaluate Baseline Model"
   ]
  },
  {
   "cell_type": "markdown",
   "metadata": {},
   "source": [
    "### Selecting Random Forest and Performance Summary"
   ]
  },
  {
   "cell_type": "code",
   "execution_count": 20,
   "metadata": {},
   "outputs": [
    {
     "name": "stdout",
     "output_type": "stream",
     "text": [
      "y actual : \n",
      "0    449\n",
      "1     33\n",
      "Name: Bankrupt, dtype: int64\n",
      "y predicted : \n",
      "0    474\n",
      "1      8\n",
      "dtype: int64\n"
     ]
    },
    {
     "data": {
      "text/plain": [
       "<sklearn.metrics._plot.confusion_matrix.ConfusionMatrixDisplay at 0x2e095891fd0>"
      ]
     },
     "execution_count": 20,
     "metadata": {},
     "output_type": "execute_result"
    },
    {
     "name": "stdout",
     "output_type": "stream",
     "text": [
      "Accuracy Score : 0.9439834024896265\n",
      "Class balanced Accuracy=0.605\n",
      "Precision Score : 0.875\n",
      "Recall Score : 0.21212121212121213\n"
     ]
    },
    {
     "data": {
      "image/png": "[encoded data removed]",
      "text/plain": [
       "<Figure size 432x288 with 2 Axes>"
      ]
     },
     "metadata": {
      "needs_background": "light"
     },
     "output_type": "display_data"
    }
   ],
   "source": [
    "RF_clf = RandomForestClassifier(n_estimators=100, random_state=75)\n",
    "name = \"Random Forest Classifier\"\n",
    "\n",
    "model_pipeline = Pipeline(steps=[ (\"imputer\", imputer),\n",
    "                                  (\"Standardscaler\", scaler),\n",
    "                                  (\"classify\", RF_clf)\n",
    "                                    ]\n",
    "                             )\n",
    "pipeline_fit= model_pipeline.fit(X_train, y_train)\n",
    "\n",
    "#Visualize test set and the predicted values from the model\n",
    "print('y actual : \\n' +  str(pd.Series(y_test).value_counts()))\n",
    "print('y predicted : \\n' + str(pd.Series(y_test_pred).value_counts()))\n",
    "\n",
    "#put visualization into a confusion matrix\n",
    "plot_confusion_matrix(model_pipeline,X_test,y_test, cmap=plt.cm.Blues)\n",
    "\n",
    "#printing accuracy score, balanced accuracy score, precision score, and recall score for the out of sample LogisticRegression(solver=\"liblinear\") model\n",
    "print('Accuracy Score : ' + str(accuracy_score(y_test,y_test_pred)))\n",
    "print(\"Class balanced Accuracy={a:3.3f}\".format(a=balanced_accuracy_score(y_test,  y_test_pred)))\n",
    "print('Precision Score : ' + str(precision_score(y_test,y_test_pred)))\n",
    "print('Recall Score : ' + str(recall_score(y_test,y_test_pred)))"
   ]
  },
  {
   "cell_type": "markdown",
   "metadata": {},
   "source": [
    "From the above scores it can be seen that the Random Forest model failed to predict 25 bankruptcies while only truly predicting 8 bankruptcies.  Resulting in a fairly poor Recall score of 0.21.    \n",
    "\n",
    "Since it is far worse to fail to predict bankruptcies (by a magnitude of 5 times), we must further improve the model's Recall Score."
   ]
  },
  {
   "cell_type": "code",
   "execution_count": 23,
   "metadata": {
    "scrolled": true
   },
   "outputs": [
    {
     "data": {
      "image/png": "[encoded data removed]",
      "text/plain": [
       "<Figure size 432x288 with 1 Axes>"
      ]
     },
     "metadata": {
      "needs_background": "light"
     },
     "output_type": "display_data"
    },
    {
     "data": {
      "image/png": "[encoded data removed]",
      "text/plain": [
       "<Figure size 432x288 with 1 Axes>"
      ]
     },
     "metadata": {
      "needs_background": "light"
     },
     "output_type": "display_data"
    }
   ],
   "source": [
    "# ROC Curve and precision recall curve\n",
    "rfc_disp = plot_roc_curve(pipeline_fit, X_test, y_test, alpha=0.8)\n",
    "plt.show()\n",
    "disp = plot_precision_recall_curve(pipeline_fit, X_test, y_test)\n",
    "plt.grid()"
   ]
  },
  {
   "cell_type": "markdown",
   "metadata": {},
   "source": [
    "- The ROC Curve is bowing towards the top left, but could be a little better.\n",
    "- The Precision Recall curve is also trending in the right direction but can become slightly better."
   ]
  },
  {
   "cell_type": "code",
   "execution_count": 24,
   "metadata": {},
   "outputs": [
    {
     "data": {
      "image/png": "[encoded data removed]",
      "text/plain": [
       "<Figure size 576x576 with 1 Axes>"
      ]
     },
     "metadata": {
      "needs_background": "light"
     },
     "output_type": "display_data"
    }
   ],
   "source": [
    "# Plot precision, recall trade-off\n",
    "y_scores = cross_val_predict(model_pipeline, X_train, y_train, cv=10, method='predict_proba')[:,1]\n",
    "p, r, thresholds = precision_recall_curve(y_train, y_scores)\n",
    "def plot_precision_recall_vs_threshold(precisions, recalls, thresholds):\n",
    "    plt.figure(figsize=(8, 8))\n",
    "    plt.title(\"Precision and Recall Scores as a function of the decision threshold\")\n",
    "    plt.plot(thresholds, precisions[:-1], \"b--\", label=\"Precision\")\n",
    "    plt.plot(thresholds, recalls[:-1], \"g-\", label=\"Recall\")\n",
    "    plt.ylabel(\"Score\")\n",
    "    plt.xlabel(\"Decision Threshold\")\n",
    "    plt.legend(loc='best')\n",
    "plot_precision_recall_vs_threshold(p, r, thresholds)\n",
    "plt.grid()"
   ]
  },
  {
   "cell_type": "markdown",
   "metadata": {},
   "source": [
    "From the curve above, there will be great tradeoff between the Recall and Precision of the model"
   ]
  },
  {
   "cell_type": "markdown",
   "metadata": {},
   "source": [
    "## Resampling to correct imbalanced data "
   ]
  },
  {
   "cell_type": "markdown",
   "metadata": {},
   "source": [
    "### SMOTE+ENN "
   ]
  },
  {
   "cell_type": "markdown",
   "metadata": {},
   "source": [
    "Next the training data will be resampled by SMOTE+ENN to balance the data\n",
    "- This will result in a decrease in precision, but will hopefully bring up the recall"
   ]
  },
  {
   "cell_type": "code",
   "execution_count": 30,
   "metadata": {},
   "outputs": [],
   "source": [
    "from imblearn.combine import SMOTEENN, SMOTETomek\n",
    "from imblearn.pipeline import make_pipeline, Pipeline\n",
    "\n",
    "def RFClf(X_train, y_train, X_test, y_test):\n",
    "    \"\"\"\n",
    "    Create Random forest model that returns in and out of sample scores (via cross validation), accuracy score, precision score and recall score.\n",
    "    Also returns confusion matrix.\n",
    "    --------\n",
    "    Parameters  \n",
    "    X_train: DataFrame\n",
    "    -training feature set\n",
    "    \n",
    "    y_train:DataFrame\n",
    "    -traing target values\n",
    "    \n",
    "    X_test: DataFrame\n",
    "    -test feature set\n",
    "    \n",
    "    y_test: DataFrame\n",
    "    -test target set\n",
    "    \n",
    "    \"\"\"\n",
    "    RF_clf = RandomForestClassifier(n_estimators=100, random_state=75)\n",
    "    name = \"Random Forest Classifier\"\n",
    "    \n",
    "    #Class to perform over-sampling using SMOTE and cleaning using ENN.\n",
    "    sme = SMOTEENN(random_state=42)\n",
    "\n",
    "    model_pipeline = Pipeline(steps=[ (\"imputer\", imputer),\n",
    "                                      (\"Standardscaler\", scaler),\n",
    "                                      (\"SMOTE + ENN\", sme),\n",
    "                                      (\"classify\", RF_clf)\n",
    "                                    ]\n",
    "                             )\n",
    "    \n",
    "    _= model_pipeline.fit(X_train, y_train)\n",
    "    \n",
    "    \n",
    "    # Cross validation on the pipeline\n",
    "    scores = cross_val_score(model_pipeline, X_train, y_train, cv=10)\n",
    "    \n",
    "    # Out of Sample accuracy scores\n",
    "    y_test_pred = model_pipeline.predict(X_test)\n",
    "    score_out_of_sample = accuracy_score(y_test, y_test_pred)\n",
    "    \n",
    "    print(\"Model: {m:s} avg cross validation score={s:3.4f}\\n\".format(m=name, s=scores.mean()))\n",
    "    print(\"       {m:s} out-of-sample score={s:3.4f}\\n\".format(m=name, s=score_out_of_sample))\n",
    "    \n",
    "    #Visualize test set and the predicted values from the model\n",
    "    print('y actual : \\n' +  str(pd.Series(y_test).value_counts()))\n",
    "    print('y predicted : \\n' + str(pd.Series(y_test_pred).value_counts()))\n",
    "\n",
    "    #put visualization into a confusion matrix\n",
    "    plot_confusion_matrix(model_pipeline,X_test,y_test, cmap=plt.cm.Blues)\n",
    "\n",
    "    #printing accuracy score, precision score, recall score, and F1 score for the out of sample LogisticRegression(solver=\"liblinear\") model\n",
    "    print('Accuracy Score : ' + str(accuracy_score(y_test,y_test_pred)))\n",
    "    print(\"Class Balanced Accuracy : {a:3.3f}\".format(a=balanced_accuracy_score(y_test,  y_test_pred)))\n",
    "    print('Precision Score : ' + str(precision_score(y_test,y_test_pred)))\n",
    "    print('Recall Score : ' + str(recall_score(y_test,y_test_pred)))\n",
    "\n"
   ]
  },
  {
   "cell_type": "code",
   "execution_count": 27,
   "metadata": {},
   "outputs": [
    {
     "name": "stdout",
     "output_type": "stream",
     "text": [
      "Model: Random Forest Classifier avg cross validation score=0.8978\n",
      "\n",
      "       Random Forest Classifier out-of-sample score=0.9004\n",
      "\n",
      "y actual : \n",
      "0    449\n",
      "1     33\n",
      "Name: Bankrupt, dtype: int64\n",
      "y predicted : \n",
      "0    431\n",
      "1     51\n",
      "dtype: int64\n",
      "Accuracy Score : 0.9004149377593361\n",
      "Class Balanced Accuracy : 0.736\n",
      "Precision Score : 0.35294117647058826\n",
      "Recall Score : 0.5454545454545454\n"
     ]
    },
    {
     "data": {
      "image/png": "[encoded data removed]",
      "text/plain": [
       "<Figure size 432x288 with 2 Axes>"
      ]
     },
     "metadata": {
      "needs_background": "light"
     },
     "output_type": "display_data"
    }
   ],
   "source": [
    "RFClf(X_train, y_train, X_test, y_test)"
   ]
  },
  {
   "cell_type": "markdown",
   "metadata": {},
   "source": [
    "With resampling the data we see a great improvement in the recall score at the expense of the precision score.  "
   ]
  },
  {
   "cell_type": "code",
   "execution_count": 28,
   "metadata": {},
   "outputs": [
    {
     "data": {
      "image/png": "[encoded data removed]",
      "text/plain": [
       "<Figure size 432x288 with 1 Axes>"
      ]
     },
     "metadata": {
      "needs_background": "light"
     },
     "output_type": "display_data"
    },
    {
     "data": {
      "image/png": "[encoded data removed]",
      "text/plain": [
       "<Figure size 432x288 with 1 Axes>"
      ]
     },
     "metadata": {
      "needs_background": "light"
     },
     "output_type": "display_data"
    }
   ],
   "source": [
    "rfc_disp = plot_roc_curve(pipeline_fit, X_test, y_test, alpha=0.8)\n",
    "plt.show()\n",
    "disp = plot_precision_recall_curve(pipeline_fit, X_test, y_test)\n",
    "plt.grid()"
   ]
  },
  {
   "cell_type": "code",
   "execution_count": 29,
   "metadata": {},
   "outputs": [
    {
     "data": {
      "image/png": "[encoded data removed]",
      "text/plain": [
       "<Figure size 576x576 with 1 Axes>"
      ]
     },
     "metadata": {
      "needs_background": "light"
     },
     "output_type": "display_data"
    }
   ],
   "source": [
    "# Plot precision, recall trade-off\n",
    "y_scores = cross_val_predict(model_pipeline, X_train, y_train, cv=10, method='predict_proba')[:,1]\n",
    "p, r, thresholds = precision_recall_curve(y_train, y_scores)\n",
    "def plot_precision_recall_vs_threshold(precisions, recalls, thresholds):\n",
    "    plt.figure(figsize=(8, 8))\n",
    "    plt.title(\"Precision and Recall Scores as a function of the decision threshold\")\n",
    "    plt.plot(thresholds, precisions[:-1], \"b--\", label=\"Precision\")\n",
    "    plt.plot(thresholds, recalls[:-1], \"g-\", label=\"Recall\")\n",
    "    plt.ylabel(\"Score\")\n",
    "    plt.xlabel(\"Decision Threshold\")\n",
    "    plt.legend(loc='best')\n",
    "plot_precision_recall_vs_threshold(p, r, thresholds)\n",
    "plt.grid()"
   ]
  },
  {
   "cell_type": "markdown",
   "metadata": {},
   "source": [
    "### SMOTE+Tomek"
   ]
  },
  {
   "cell_type": "code",
   "execution_count": 31,
   "metadata": {},
   "outputs": [],
   "source": [
    "def RFClf2(X_train, y_train, X_test, y_test):\n",
    "    \"\"\"\n",
    "    Create Random forest model that returns in and out of sample scores (via cross validation), accuracy score, precision score and recall score.\n",
    "    Also returns confusion matrix.\n",
    "    --------\n",
    "    Parameters  \n",
    "    X_train: DataFrame\n",
    "    -training feature set\n",
    "    \n",
    "    y_train:DataFrame\n",
    "    -traing target values\n",
    "    \n",
    "    X_test: DataFrame\n",
    "    -test feature set\n",
    "    \n",
    "    y_test: DataFrame\n",
    "    -test target set\n",
    "    \n",
    "    \"\"\"\n",
    "    RF_clf = RandomForestClassifier(n_estimators=100, random_state=75)\n",
    "    name = \"Random Forest Classifier\"\n",
    "    \n",
    "    #Class to perform over-sampling using SMOTE and cleaning using ENN.\n",
    "    smt = SMOTETomek(random_state=43)\n",
    "\n",
    "    model_pipeline = Pipeline(steps=[ (\"imputer\", imputer),\n",
    "                                      (\"Standardscaler\", scaler),\n",
    "                                      (\"SMOTE + Tomek\", smt),\n",
    "                                      (\"classify\", RF_clf)\n",
    "                                    ]\n",
    "                             )\n",
    "    \n",
    "    _= model_pipeline.fit(X_train, y_train)\n",
    "    \n",
    "    \n",
    "    # Cross validation on the pipeline\n",
    "    scores = cross_val_score(model_pipeline, X_train, y_train, cv=10)\n",
    "    \n",
    "    # Out of Sample accuracy scores\n",
    "    y_test_pred = model_pipeline.predict(X_test)\n",
    "    score_out_of_sample = accuracy_score(y_test, y_test_pred)\n",
    "    \n",
    "    print(\"Model: {m:s} avg cross validation score={s:3.4f}\\n\".format(m=name, s=scores.mean()))\n",
    "    print(\"       {m:s} out-of-sample score={s:3.4f}\\n\".format(m=name, s=score_out_of_sample))\n",
    "    \n",
    "    #Visualize test set and the predicted values from the model\n",
    "    print('y actual : \\n' +  str(pd.Series(y_test).value_counts()))\n",
    "    print('y predicted : \\n' + str(pd.Series(y_test_pred).value_counts()))\n",
    "\n",
    "    #put visualization into a confusion matrix\n",
    "    plot_confusion_matrix(model_pipeline,X_test,y_test, cmap=plt.cm.Blues)\n",
    "\n",
    "    #printing accuracy score, precision score, recall score, and F1 score for the out of sample LogisticRegression(solver=\"liblinear\") model\n",
    "    print('Accuracy Score : ' + str(accuracy_score(y_test,y_test_pred)))\n",
    "    print(\"Class Balanced Accuracy : {a:3.3f}\".format(a=balanced_accuracy_score(y_test,  y_test_pred)))\n",
    "    print('Precision Score : ' + str(precision_score(y_test,y_test_pred)))\n",
    "    print('Recall Score : ' + str(recall_score(y_test,y_test_pred)))\n",
    "\n"
   ]
  },
  {
   "cell_type": "code",
   "execution_count": 32,
   "metadata": {},
   "outputs": [
    {
     "name": "stdout",
     "output_type": "stream",
     "text": [
      "Model: Random Forest Classifier avg cross validation score=0.9417\n",
      "\n",
      "       Random Forest Classifier out-of-sample score=0.9502\n",
      "\n",
      "y actual : \n",
      "0    449\n",
      "1     33\n",
      "Name: Bankrupt, dtype: int64\n",
      "y predicted : \n",
      "0    459\n",
      "1     23\n",
      "dtype: int64\n",
      "Accuracy Score : 0.950207468879668\n",
      "Class Balanced Accuracy : 0.735\n",
      "Precision Score : 0.6956521739130435\n",
      "Recall Score : 0.48484848484848486\n"
     ]
    },
    {
     "data": {
      "image/png": "[encoded data removed]",
      "text/plain": [
       "<Figure size 432x288 with 2 Axes>"
      ]
     },
     "metadata": {
      "needs_background": "light"
     },
     "output_type": "display_data"
    }
   ],
   "source": [
    "RFClf2(X_train, y_train, X_test, y_test)"
   ]
  },
  {
   "cell_type": "markdown",
   "metadata": {},
   "source": [
    "In Conclusion:\n",
    "- both improve the recall score\n",
    "- SMOKE+ENN increases recall more than SMOKE+Tomek, but also suffers more with precision\n",
    "- SMOKE+Tomek surprisingly increases in precision as well, but still needs a higher score in recall"
   ]
  },
  {
   "cell_type": "markdown",
   "metadata": {},
   "source": [
    "# PCA Fine Tuning"
   ]
  },
  {
   "cell_type": "code",
   "execution_count": 33,
   "metadata": {},
   "outputs": [
    {
     "data": {
      "image/png": "[encoded data removed]",
      "text/plain": [
       "<Figure size 720x360 with 1 Axes>"
      ]
     },
     "metadata": {
      "needs_background": "light"
     },
     "output_type": "display_data"
    }
   ],
   "source": [
    "# Using PCA to reduce dimension of features\n",
    "transform_pipeline = Pipeline(steps= [(\"imputer\", imputer),\n",
    "                                      (\"Standardscaler\", scaler),\n",
    "                                     ]\n",
    "                             )\n",
    "\n",
    "pca = PCA()\n",
    "X_transformed = transform_pipeline.fit_transform(X_train)\n",
    "_ = pca.fit(X_transformed)\n",
    "exp_var_cumul = np.cumsum(pca.explained_variance_ratio_)\n",
    "_ = plt.figure(figsize=(10,5))\n",
    "_ = plt.plot(\n",
    "    range(1, exp_var_cumul.shape[0] + 1),\n",
    "    exp_var_cumul\n",
    ")\n",
    "_ = plt.title(\"Cumulative variance explained\")\n",
    "_ = plt.xlabel(\"Number of components\")\n",
    "_ = plt.ylabel(\"Fraction total variance\")\n",
    "plt.grid()"
   ]
  },
  {
   "cell_type": "code",
   "execution_count": 49,
   "metadata": {},
   "outputs": [
    {
     "name": "stdout",
     "output_type": "stream",
     "text": [
      "Accuracy Score : 0.6674354243542435\n",
      "Class Balanced Accuracy : 0.777\n",
      "Precision Score : 0.14912808177991582\n",
      "Recall Score : 0.9018181818181819\n"
     ]
    }
   ],
   "source": [
    "# Reduce dimension\n",
    "pca = PCA(n_components=35)\n",
    "sme = SMOTEENN(random_state=42)\n",
    "smt = SMOTETomek(random_state=43)\n",
    "pca_pipeline = Pipeline(steps=[ (\"imputer\", imputer),\n",
    "                                      (\"Standardscaler\", scaler),\n",
    "                                      (\"SMOTE + Tomek\", smt),\n",
    "                                      (\"PCA\", pca),\n",
    "                                      (\"classify\", RF_clf)\n",
    "                                    ]\n",
    "                             )\n",
    "\n",
    "# Adjust threshold\n",
    "threshold = 0.15\n",
    "predicted_proba = cross_val_predict(pca_pipeline, X_train, y_train, cv=10, method='predict_proba')\n",
    "y_pred = (predicted_proba [:,1] >= threshold).astype('int')\n",
    "\n",
    "    \n",
    "print('Accuracy Score : ' + str(accuracy_score(y_train,y_pred)))\n",
    "print(\"Class Balanced Accuracy : {a:3.3f}\".format(a=balanced_accuracy_score(y_train,  y_pred)))\n",
    "print('Precision Score : ' + str(precision_score(y_train,y_pred)))\n",
    "print('Recall Score : ' + str(recall_score(y_train,y_pred)))"
   ]
  },
  {
   "cell_type": "markdown",
   "metadata": {},
   "source": [
    "PCA didn't have much impact"
   ]
  },
  {
   "cell_type": "code",
   "execution_count": 54,
   "metadata": {},
   "outputs": [
    {
     "name": "stdout",
     "output_type": "stream",
     "text": [
      "Result with threshold= 0.1\n",
      "Accuracy Score=0.8494\n",
      "Precision Score=0.2802\n",
      "Recall Score=0.8764\n",
      "-------\n",
      "Result with threshold= 0.2\n",
      "Accuracy Score=0.9154\n",
      "Precision Score=0.4061\n",
      "Recall Score=0.7236\n",
      "-------\n",
      "Result with threshold= 0.3\n",
      "Accuracy Score=0.9442\n",
      "Precision Score=0.5541\n",
      "Recall Score=0.6145\n",
      "-------\n"
     ]
    }
   ],
   "source": [
    "for threshold in np.linspace(0.1, 0.3, 3):\n",
    "    print(\"Result with threshold=\", threshold)\n",
    "    predicted_proba = cross_val_predict(model_pipeline, X_train, y_train, cv=10, method='predict_proba')\n",
    "    y_pred = (predicted_proba [:,1] >= threshold).astype('int')\n",
    "    \n",
    "    accuracy = accuracy_score(y_train, y_pred)\n",
    "    \n",
    "    print(\"Accuracy Score={a:3.4f}\".format(a=accuracy))\n",
    "    print(\"Precision Score={p:3.4f}\".format(p=precision_score(y_train, y_pred)))\n",
    "    print(\"Recall Score={r:3.4f}\".format(r=recall_score(y_train, y_pred)))\n",
    "    print(\"-------\")"
   ]
  },
  {
   "cell_type": "markdown",
   "metadata": {},
   "source": [
    "Since the goal is to avoid failing to identify a company that will go bankrupt, the model chosen will need a high recall score.  From the available options in the threshold training, the model will use a 0.1 threshold."
   ]
  },
  {
   "cell_type": "markdown",
   "metadata": {},
   "source": [
    "# Create final training set including all sample"
   ]
  },
  {
   "cell_type": "code",
   "execution_count": 55,
   "metadata": {},
   "outputs": [],
   "source": [
    "y = df[\"Bankrupt\"]\n",
    "X = df.drop(columns=[\"Bankrupt\", \"Id\",\"X37\"])"
   ]
  },
  {
   "cell_type": "markdown",
   "metadata": {
    "heading_collapsed": true
   },
   "source": [
    "# Evaluating your project"
   ]
  },
  {
   "cell_type": "markdown",
   "metadata": {
    "hidden": true
   },
   "source": [
    "We will evaluate your submission on a test dataset that we provide\n",
    "- It has no labels, so **you** can't use it to evaluate your model, but **we** have the labels\n",
    "- We will call this evaluation dataset the \"holdout\" data\n",
    "\n",
    "Let's get it"
   ]
  },
  {
   "cell_type": "code",
   "execution_count": 53,
   "metadata": {
    "hidden": true
   },
   "outputs": [
    {
     "name": "stdout",
     "output_type": "stream",
     "text": [
      "Data shape:  (1092, 65)\n"
     ]
    }
   ],
   "source": [
    "holdout_data = pd.read_csv( os.path.join(DATA_DIR, \"holdout\", '5th_yr.csv') )\n",
    "\n",
    "print(\"Data shape: \", holdout_data.shape)\n"
   ]
  },
  {
   "cell_type": "markdown",
   "metadata": {
    "hidden": true
   },
   "source": [
    "We will evaluate your model on the holdout examples using metrics\n",
    "- Accuracy\n",
    "- Recall\n",
    "- Precision\n",
    "\n",
    "From our lecture: we may have to make a trade-off between Recall and Precision.\n",
    "\n",
    "Our evaluation of your submission will be partially based on how you made (and described) the trade-off.\n",
    "\n",
    "You may assume that it is 5 times worse to *fail to identify a company that will go bankrupt*\n",
    "than it is to fail to identify a company that won't go bankrupt."
   ]
  },
  {
   "cell_type": "markdown",
   "metadata": {
    "heading_collapsed": true
   },
   "source": [
    "# Your model\n",
    "\n",
    "Time for you to continue the Recipe for Machine Learning on your own.\n",
    "\n"
   ]
  },
  {
   "cell_type": "markdown",
   "metadata": {
    "heading_collapsed": true,
    "hidden": true
   },
   "source": [
    "## Submission guidelines\n",
    "\n",
    "Although your notebook may contain many models (e.g., due to your iterative development)\n",
    "we will only evaluate a single model.\n",
    "So choose one (explain why !) and do the following.\n",
    "\n",
    "- You will implement the body of a subroutine `MyModel`\n",
    "    - That takes as argument a Pandas DataFrame \n",
    "        - Each row is an example on which to predict\n",
    "        - The features of the example are elements of the row\n",
    "    - Performs predictions on each example\n",
    "    - Returns an array or predictions with a one-to-one correspondence with the examples in the test set\n",
    "    "
   ]
  },
  {
   "cell_type": "markdown",
   "metadata": {
    "hidden": true
   },
   "source": [
    "We will evaluate your model against the holdout data\n",
    "- By reading the holdout examples `X_hold` (as above)\n",
    "- Calling `y_hold_pred = MyModel(X_hold)` to get the predictions\n",
    "- Comparing the predicted values `y_hold_pred` against the true labels `y_hold` which are known only to the instructors\n",
    "\n",
    "See the following cell as an illustration"
   ]
  },
  {
   "cell_type": "raw",
   "metadata": {
    "hidden": true
   },
   "source": [
    "# Give the model a name (will appear in the print statement)\n",
    "name = \"This is the name I've given to my model\"\n",
    "\n",
    "X_hold = pd.read_csv( os.path.join(DATA_DIR, \"holdout\", '5th_yr.csv') )\n",
    "\n",
    "# Predict using MyModel\n",
    "y_hold_pred = MyModel(X_hold)\n",
    "\n",
    "# Compute metrics\n",
    "# accuracy\n",
    "accuracy_hold = accuracy_score(y_hold, y_hold_pred)\n",
    "\n",
    "# recall_\n",
    "recall_hold = recall_score(y_hold, y_hold_pred, pos_label=1, average=\"binary\")\n",
    "\n",
    "# precision\n",
    "precision_hold = precision_score(y_hold,   y_hold_pred, pos_label=1, average=\"binary\")\n",
    "\n",
    "\n",
    "print(\"\\t{m:s} Accuracy: {a:3.1%}, Recall {r:3.1%}, Precision {p:3.1%}\".format(m=name,\n",
    "                                                                            a=accuracy_hold,\n",
    "                                                                            r=recall_hold,\n",
    "                                                                            p=precision_hold\n",
    "                                                                            )\n",
    "         )"
   ]
  },
  {
   "cell_type": "markdown",
   "metadata": {
    "hidden": true
   },
   "source": [
    "**Remember**\n",
    "\n",
    "The holdout data is in the same format as the one we used for training\n",
    "- Except that it has no attribute for the target\n",
    "- So you will need to perform all the transformations on the holdout data\n",
    "    - As you did on the training data\n",
    "    - Including turning the string representation of numbers into actual numeric data types\n",
    "\n",
    "All of this work *must* be performed within the body of the `MyModel` routine you will write\n",
    "\n",
    "We will grade you by comparing the predictions array you create to the answers known to us."
   ]
  },
  {
   "cell_type": "markdown",
   "metadata": {},
   "source": [
    "# Submission"
   ]
  },
  {
   "cell_type": "code",
   "execution_count": 56,
   "metadata": {},
   "outputs": [],
   "source": [
    "import pandas as pd\n",
    "import os\n",
    "\n",
    "def MyModel(X_dataframe):\n",
    "    # It should create an array of predictions; we initialize it to the empty array for convenience\n",
    "    predictions = []\n",
    "    \n",
    "    # YOUR CODE GOES HERE\n",
    "    df_input = Numerictransform(X_dataframe) #change input DF into numeric type\n",
    "    df_clean = df_input.drop(columns=[\"Id\",\"X37\"])  #Drop ID and X37 feature due to lack of data\n",
    "    \n",
    "    scaler = StandardScaler()\n",
    "    imputer = SimpleImputer(strategy='mean')\n",
    "\n",
    "    RF_clf = RandomForestClassifier(n_estimators=100, random_state=75)\n",
    "    name = \"Random Forest Classifier\"\n",
    "    \n",
    "    #Class to perform over-sampling using SMOTE and cleaning using Tomek\n",
    "    smt = SMOTETomek(random_state=43)\n",
    "    \n",
    "    #model pipeline with transformations, SMOTE+ENN, and RandomForest Classifier\n",
    "    model_pipeline = Pipeline(steps=[ (\"imputer\", imputer),\n",
    "                                      (\"Standardscaler\", scaler),\n",
    "                                      (\"SMOTE + Tomek\", smt),\n",
    "                                      (\"classify\", RF_clf)\n",
    "                                    ]\n",
    "                             )\n",
    "    \n",
    "    _ = model_pipeline.fit(X,y)\n",
    "    \n",
    "    #Set up threshold\n",
    "    threshold = 0.1\n",
    "    \n",
    "    #Predict away\n",
    "    predicted_proba = model_pipeline.predict_proba(df_clean)\n",
    "    predictions = (predicted_proba [:,1] >= threshold).astype('int')\n",
    "    \n",
    "    return predictions"
   ]
  },
  {
   "cell_type": "code",
   "execution_count": 57,
   "metadata": {},
   "outputs": [
    {
     "data": {
      "text/plain": [
       "array([0, 1, 1, ..., 1, 0, 0])"
      ]
     },
     "execution_count": 57,
     "metadata": {},
     "output_type": "execute_result"
    }
   ],
   "source": [
    "MyModel(holdout_data)"
   ]
  },
  {
   "cell_type": "markdown",
   "metadata": {},
   "source": [
    "\n",
    "\n",
    "# Check your work: predict and evaluate metrics on *your* test examples\n",
    "\n",
    "Although only the instructors have the correct labels for the holdout dataset, you may want\n",
    "to create your own test dataset on which to evaluate your out of sample metrics.\n",
    "\n",
    "If you choose to do so, you can evaluate your models using the same metrics that the instructors will use.\n",
    "\n",
    "- Test whether your implementation of `MyModel` works\n",
    "- See the metrics  your model produces\n",
    "\n",
    "The following cell\n",
    "- Assumes that you have created `X_test, y_test` as your proxy for an out of sample dataset\n",
    "    - It serves the same function as `X_hold`, the holdout dataset, but you have the associated target (only the instructors have `y_hold`)"
   ]
  },
  {
   "cell_type": "code",
   "execution_count": null,
   "metadata": {},
   "outputs": [],
   "source": [
    "# Give the model a name (will appear in the print statement)\n",
    "name = \"Abruzzo's Random Forest\"\n",
    "\n",
    "y_test_pred = MyModel()\n",
    "\n",
    "accuracy_test = accuracy_score(y_test, y_test_pred)\n",
    "recall_test = recall_score(y_test, y_test_pred, pos_label=1, average=\"binary\")\n",
    "precision_test = precision_score(y_test,   y_test_pred, pos_label=1, average=\"binary\")\n",
    "\n",
    "print(\"\\t{m:s} Accuracy: {a:3.1%}, Recall {r:3.1%}, Precision {p:3.1%}\".format(m=name,\n",
    "                                                                            a=accuracy_test,\n",
    "                                                                            r=recall_test,\n",
    "                                                                            p=precision_test\n",
    "                                                                            )\n",
    "         )"
   ]
  }
 ],
 "metadata": {
  "kernelspec": {
   "display_name": "Python 3",
   "language": "python",
   "name": "python3"
  },
  "language_info": {
   "codemirror_mode": {
    "name": "ipython",
    "version": 3
   },
   "file_extension": ".py",
   "mimetype": "text/x-python",
   "name": "python",
   "nbconvert_exporter": "python",
   "pygments_lexer": "ipython3",
   "version": "3.8.5"
  },
  "toc": {
   "base_numbering": 1,
   "nav_menu": {},
   "number_sections": true,
   "sideBar": true,
   "skip_h1_title": false,
   "title_cell": "Table of Contents",
   "title_sidebar": "Contents",
   "toc_cell": false,
   "toc_position": {
    "height": "calc(100% - 180px)",
    "left": "10px",
    "top": "150px",
    "width": "165px"
   },
   "toc_section_display": true,
   "toc_window_display": true
  }
 },
 "nbformat": 4,
 "nbformat_minor": 2
}
